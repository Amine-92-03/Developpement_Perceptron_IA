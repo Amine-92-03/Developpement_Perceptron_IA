{
 "cells": [
  {
   "cell_type": "markdown",
   "id": "c7c6c7e2",
   "metadata": {},
   "source": [
    "# PERCEPTRON POUR OPERATEUR OU / ET"
   ]
  },
  {
   "cell_type": "code",
   "execution_count": 280,
   "id": "ba86bc99",
   "metadata": {},
   "outputs": [],
   "source": [
    "import math"
   ]
  },
  {
   "cell_type": "code",
   "execution_count": 281,
   "id": "be49a76f",
   "metadata": {},
   "outputs": [
    {
     "name": "stdout",
     "output_type": "stream",
     "text": [
      "51.63\n"
     ]
    }
   ],
   "source": [
    "print(round(51.6333,2)) "
   ]
  },
  {
   "cell_type": "code",
   "execution_count": 282,
   "id": "d85f9d6f",
   "metadata": {},
   "outputs": [],
   "source": [
    "def fonctionEchelon(x):\n",
    "    if x >= 0 :\n",
    "        return 1\n",
    "    else :\n",
    "        return 0\n",
    "    \n",
    "def fw(p,x):\n",
    "    n = len(p)\n",
    "    s=0\n",
    "    for i in range(n):\n",
    "        s = s + p[i]*x[i]\n",
    "    return s\n",
    "\n",
    "def dw_correction(nu, y_r, y_p,xi,p):\n",
    "    n = len(xi)\n",
    "    poids_c = []\n",
    "    for i in range(n):\n",
    "        poids_c.append(round(nu * (y_r - y_p) * xi[i] + p[i],2))\n",
    "    return poids_c\n",
    "\n",
    "def perceptron_train(p,x_en,y_ent,nu):\n",
    "    nbreLine = len(y_ent)\n",
    "    finProgramme = True\n",
    "    while finProgramme :\n",
    "        finProgramme = False\n",
    "        for i in range(nbreLine):\n",
    "            xi_wi = fw(p,x_en[i])\n",
    "            y_c = fonctionEchelon(xi_wi)\n",
    "            if y_c != y_ent[i] :\n",
    "                finProgramme = True\n",
    "                p = dw_correction(nu , y_ent[i], y_c ,x_en[i] , p)\n",
    "    return p\n",
    "\n",
    "def perceptron(wi,xi):\n",
    "    res = fonctionEchelon(fw(wi,xi))\n",
    "    return [xi, wi, res]\n"
   ]
  },
  {
   "cell_type": "markdown",
   "id": "359c5ffa",
   "metadata": {},
   "source": [
    "## Apprentissage pour OU"
   ]
  },
  {
   "cell_type": "code",
   "execution_count": 283,
   "id": "bc2aeb72",
   "metadata": {},
   "outputs": [],
   "source": [
    "nu = 0.03\n",
    "poids = [0.02 , 0.1 , 0.05]\n",
    "xi_entrain = [[1 , 1 , 0],[1 , 0 , 1],[1 , 0 , 0],[1 , 1 , 1]]\n",
    "yi_entrain = [1 , 1 , 0 , 1]"
   ]
  },
  {
   "cell_type": "code",
   "execution_count": 284,
   "id": "c399d28e",
   "metadata": {},
   "outputs": [],
   "source": [
    "wi_trained_OU = perceptron_train(poids,xi_entrain,yi_entrain,nu)"
   ]
  },
  {
   "cell_type": "markdown",
   "id": "a6cdb760",
   "metadata": {},
   "source": [
    "## Evaluation pour OU"
   ]
  },
  {
   "cell_type": "code",
   "execution_count": 285,
   "id": "c60699b9",
   "metadata": {},
   "outputs": [],
   "source": [
    "x_test = [1,1,1]"
   ]
  },
  {
   "cell_type": "code",
   "execution_count": 286,
   "id": "b078cd36",
   "metadata": {},
   "outputs": [
    {
     "data": {
      "text/plain": [
       "[[1, 1, 1], [-0.01, 0.1, 0.05], 1]"
      ]
     },
     "execution_count": 286,
     "metadata": {},
     "output_type": "execute_result"
    }
   ],
   "source": [
    "perceptron(wi_trained_OU,x_test)"
   ]
  },
  {
   "cell_type": "markdown",
   "id": "a399dd02",
   "metadata": {},
   "source": [
    "## Apprentissage pour ET"
   ]
  },
  {
   "cell_type": "code",
   "execution_count": 287,
   "id": "f59552aa",
   "metadata": {},
   "outputs": [],
   "source": [
    "nu = 0.03\n",
    "poids = [0.02 , 0.1 , 0.05]\n",
    "xi_entrain = [[1 , 1 , 0],[1 , 0 , 1],[1 , 0 , 0],[1 , 1 , 1]]\n",
    "yi_entrain = [0 , 0 , 0 , 1]"
   ]
  },
  {
   "cell_type": "code",
   "execution_count": 288,
   "id": "a66da277",
   "metadata": {},
   "outputs": [],
   "source": [
    "wi_trained_ET = perceptron_train(poids,xi_entrain,yi_entrain,nu)"
   ]
  },
  {
   "cell_type": "code",
   "execution_count": 289,
   "id": "c321466d",
   "metadata": {},
   "outputs": [],
   "source": [
    "x_test = [1,0,1]"
   ]
  },
  {
   "cell_type": "code",
   "execution_count": 290,
   "id": "bff50e80",
   "metadata": {},
   "outputs": [
    {
     "data": {
      "text/plain": [
       "[[1, 0, 1], [-0.07, 0.04, 0.05], 0]"
      ]
     },
     "execution_count": 290,
     "metadata": {},
     "output_type": "execute_result"
    }
   ],
   "source": [
    "perceptron(wi_trained_ET,x_test)"
   ]
  },
  {
   "cell_type": "markdown",
   "id": "d24f30d3",
   "metadata": {},
   "source": [
    "## Interface graphique"
   ]
  },
  {
   "cell_type": "code",
   "execution_count": 291,
   "id": "e6415fe7",
   "metadata": {},
   "outputs": [],
   "source": [
    "from tkinter import *"
   ]
  },
  {
   "cell_type": "code",
   "execution_count": 292,
   "id": "35bdea76",
   "metadata": {},
   "outputs": [
    {
     "name": "stdout",
     "output_type": "stream",
     "text": [
      "Note: you may need to restart the kernel to use updated packages.\n"
     ]
    },
    {
     "name": "stderr",
     "output_type": "stream",
     "text": [
      "WARNING: Ignoring invalid distribution -ip (c:\\python310\\lib\\site-packages)\n",
      "WARNING: Ignoring invalid distribution -ip (c:\\python310\\lib\\site-packages)\n",
      "ERROR: Could not find a version that satisfies the requirement tkinter (from versions: none)\n",
      "ERROR: No matching distribution found for tkinter\n",
      "WARNING: Ignoring invalid distribution -ip (c:\\python310\\lib\\site-packages)\n",
      "WARNING: Ignoring invalid distribution -ip (c:\\python310\\lib\\site-packages)\n",
      "WARNING: Ignoring invalid distribution -ip (c:\\python310\\lib\\site-packages)\n"
     ]
    }
   ],
   "source": [
    "pip install tkinter"
   ]
  },
  {
   "cell_type": "code",
   "execution_count": 293,
   "id": "77adb8d5",
   "metadata": {},
   "outputs": [],
   "source": [
    "import tkinter as tk\n",
    "app = tk.Tk() \n",
    "app.geometry('150x100')\n",
    "\n",
    "radioValue = tk.IntVar() \n",
    "\n",
    " \n",
    "rdioOne = tk.Radiobutton(app, text='January',\n",
    "                             variable=radioValue, value=1,command = lambda: print(1)) \n",
    "rdioTwo = tk.Radiobutton(app, text='Febuary',\n",
    "                             variable=radioValue, value=2,command = lambda: print(2)) \n",
    "rdioThree = tk.Radiobutton(app, text='March',\n",
    "                             variable=radioValue, value=3,command = lambda: print(3))\n",
    "\n",
    "\n",
    "rdioOne.grid(column=0, row=0)\n",
    "rdioTwo.grid(column=0, row=1)\n",
    "rdioThree.grid(column=0, row=2)\n",
    "\n",
    "app.mainloop()\n",
    "    "
   ]
  },
  {
   "cell_type": "code",
   "execution_count": 304,
   "id": "1c960262",
   "metadata": {},
   "outputs": [],
   "source": [
    "gui = Tk()\n",
    "\n",
    "l1 = Label(gui, text = \"X1 :\")\n",
    "l1.place(x = 10, y = 10)\n",
    "e1 = Entry(gui, bd = 5)\n",
    "e1.place(x = 70, y = 10)\n",
    "\n",
    "l2 = Label(gui, text = \"X2 :\")\n",
    "l2.place(x = 10, y = 50)\n",
    "e2 = Entry(gui, bd = 5)\n",
    "e2.place(x = 70, y = 50)\n",
    "\n",
    "l3 = Label(gui, text = \"Détails :\")\n",
    "l3.place(x = 10, y = 150)\n",
    "\n",
    "l4 = Label(gui, text = \"Data test :\")\n",
    "l4.place(x = 10, y = 180)\n",
    "\n",
    "l5 = Label(gui, text = \"Les Wi :\")\n",
    "l5.place(x = 10, y = 210)\n",
    "\n",
    "l6 = Label(gui, text = \"Résultat:\")\n",
    "l6.place(x = 10, y = 240)\n",
    "\n",
    "\n",
    "btn = Button(gui, text = \"Calcule ET\",command = lambda: calcule_ET([1, int(e2.get()) ,int(e1.get())]))\n",
    "btn.place(x = 60, y = 120)\n",
    "\n",
    "btn = Button(gui, text = \"Calcule OU\",command = lambda: calcule_OU([1, int(e2.get()) ,int(e1.get())]))\n",
    "btn.place(x = 160, y = 120)\n",
    "\n",
    "gui.geometry(\"300x330+150+150\")\n",
    "gui.mainloop()\n",
    "\n",
    "def calcule_ET(X):\n",
    "    res = perceptron(wi_trained_ET,X)\n",
    "    l4['text'] = res[0]\n",
    "    l5['text'] = res[1]\n",
    "    l6['text'] = res[2]\n",
    "\n",
    "def calcule_OU(X):\n",
    "    res = perceptron(wi_trained_OU,X)\n",
    "    l4['text'] = res[0]\n",
    "    l5['text'] = res[1]\n",
    "    l6['text'] = res[2]"
   ]
  },
  {
   "cell_type": "code",
   "execution_count": null,
   "id": "cce36b17",
   "metadata": {},
   "outputs": [],
   "source": []
  },
  {
   "cell_type": "code",
   "execution_count": null,
   "id": "e4decaa9",
   "metadata": {},
   "outputs": [],
   "source": []
  }
 ],
 "metadata": {
  "kernelspec": {
   "display_name": "Python 3 (ipykernel)",
   "language": "python",
   "name": "python3"
  },
  "language_info": {
   "codemirror_mode": {
    "name": "ipython",
    "version": 3
   },
   "file_extension": ".py",
   "mimetype": "text/x-python",
   "name": "python",
   "nbconvert_exporter": "python",
   "pygments_lexer": "ipython3",
   "version": "3.10.4"
  }
 },
 "nbformat": 4,
 "nbformat_minor": 5
}
