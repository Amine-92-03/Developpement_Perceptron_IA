{
 "cells": [
  {
   "cell_type": "markdown",
   "id": "c7c6c7e2",
   "metadata": {},
   "source": [
    "# PERCEPTRON POUR OPERATEUR OU / ET"
   ]
  },
  {
   "cell_type": "code",
   "execution_count": 1,
   "id": "5c841d91",
   "metadata": {},
   "outputs": [
    {
     "name": "stdout",
     "output_type": "stream",
     "text": [
      "Note: you may need to restart the kernel to use updated packages.\n"
     ]
    },
    {
     "name": "stderr",
     "output_type": "stream",
     "text": [
      "WARNING: Ignoring invalid distribution -ip (c:\\python310\\lib\\site-packages)\n",
      "WARNING: Ignoring invalid distribution -ip (c:\\python310\\lib\\site-packages)\n",
      "ERROR: Could not find a version that satisfies the requirement tkinter (from versions: none)\n",
      "ERROR: No matching distribution found for tkinter\n",
      "WARNING: Ignoring invalid distribution -ip (c:\\python310\\lib\\site-packages)\n",
      "WARNING: Ignoring invalid distribution -ip (c:\\python310\\lib\\site-packages)\n",
      "WARNING: Ignoring invalid distribution -ip (c:\\python310\\lib\\site-packages)\n"
     ]
    }
   ],
   "source": [
    "pip install tkinter"
   ]
  },
  {
   "cell_type": "code",
   "execution_count": 2,
   "id": "d8957833",
   "metadata": {},
   "outputs": [],
   "source": [
    "from tkinter import *"
   ]
  },
  {
   "cell_type": "code",
   "execution_count": 3,
   "id": "ba86bc99",
   "metadata": {},
   "outputs": [],
   "source": [
    "import math"
   ]
  },
  {
   "cell_type": "markdown",
   "id": "77a2c79b",
   "metadata": {},
   "source": [
    "# Script Apprentissage Perceptron"
   ]
  },
  {
   "cell_type": "code",
   "execution_count": 63,
   "id": "d85f9d6f",
   "metadata": {},
   "outputs": [],
   "source": [
    "def fonctionEchelon(x):\n",
    "    if x >= 0 :\n",
    "        return 1\n",
    "    else :\n",
    "        return 0\n",
    "    \n",
    "def sum_wi_xi(p,x):\n",
    "    n = len(p)\n",
    "    s=0\n",
    "    for i in range(n):\n",
    "        s = s + p[i]*x[i]\n",
    "    return s\n",
    "\n",
    "# Correction des poids wi\n",
    "\n",
    "def dw_correction(nu, y_target, y , xi ,p):\n",
    "    poids_corrected = []\n",
    "    n = len(xi)\n",
    "    for i in range(n):\n",
    "        poids_corrected.append(round(nu * (y_target - y) * xi[i] + p[i],2))\n",
    "    return poids_corrected\n",
    "\n",
    "def perceptron_train(poids , x_train , y_train , nu):\n",
    "    finProgramme = True\n",
    "    n = len(y_train)\n",
    "    while finProgramme :\n",
    "        finProgramme = False\n",
    "        for i in range(n):\n",
    "            xi_wi = sum_wi_xi(poids,x_train[i])\n",
    "            y = fonctionEchelon(xi_wi)\n",
    "            if y != y_train[i] :\n",
    "                finProgramme = True\n",
    "                poids = dw_correction(nu , y_train[i], y ,x_train[i] , poids)\n",
    "    return poids\n",
    "\n",
    "def perceptron_eval(wi,xi):\n",
    "    res = fonctionEchelon(sum_wi_xi(wi,xi))\n",
    "    return [xi, wi, res]\n"
   ]
  },
  {
   "cell_type": "markdown",
   "id": "359c5ffa",
   "metadata": {},
   "source": [
    "## Apprentissage pour OU"
   ]
  },
  {
   "cell_type": "code",
   "execution_count": 5,
   "id": "bc2aeb72",
   "metadata": {},
   "outputs": [],
   "source": [
    "nu = 0.03\n",
    "poids = [0.02 , 0.1 , 0.05]\n",
    "xi_train = [[1 , 1 , 0],[1 , 0 , 1],[1 , 0 , 0],[1 , 1 , 1]]\n",
    "yi_train = [1 , 1 , 0 , 1]"
   ]
  },
  {
   "cell_type": "code",
   "execution_count": 6,
   "id": "c399d28e",
   "metadata": {},
   "outputs": [],
   "source": [
    "wi_trained_OU = perceptron_train(poids,xi_train,yi_train,nu)"
   ]
  },
  {
   "cell_type": "markdown",
   "id": "a6cdb760",
   "metadata": {},
   "source": [
    "## Evaluation pour OU"
   ]
  },
  {
   "cell_type": "code",
   "execution_count": 7,
   "id": "c60699b9",
   "metadata": {},
   "outputs": [],
   "source": [
    "x_test = [1,0,1]"
   ]
  },
  {
   "cell_type": "code",
   "execution_count": 8,
   "id": "b078cd36",
   "metadata": {},
   "outputs": [
    {
     "data": {
      "text/plain": [
       "[[1, 0, 1], [-0.01, 0.1, 0.05], 1]"
      ]
     },
     "execution_count": 8,
     "metadata": {},
     "output_type": "execute_result"
    }
   ],
   "source": [
    "perceptron_eval(wi_trained_OU,x_test)"
   ]
  },
  {
   "cell_type": "markdown",
   "id": "a399dd02",
   "metadata": {},
   "source": [
    "## Apprentissage pour ET"
   ]
  },
  {
   "cell_type": "code",
   "execution_count": 9,
   "id": "f59552aa",
   "metadata": {},
   "outputs": [],
   "source": [
    "nu = 0.03\n",
    "poids = [0.02 , 0.1 , 0.05]\n",
    "xi_train = [[1 , 1 , 0],[1 , 0 , 1],[1 , 0 , 0],[1 , 1 , 1]]\n",
    "yi_train = [0 , 0 , 0 , 1]"
   ]
  },
  {
   "cell_type": "code",
   "execution_count": 10,
   "id": "a66da277",
   "metadata": {},
   "outputs": [],
   "source": [
    "wi_trained_ET = perceptron_train(poids,xi_train,yi_train,nu)"
   ]
  },
  {
   "cell_type": "markdown",
   "id": "b8797b38",
   "metadata": {},
   "source": [
    "## Evaluation pour ET"
   ]
  },
  {
   "cell_type": "code",
   "execution_count": 11,
   "id": "c321466d",
   "metadata": {},
   "outputs": [],
   "source": [
    "x_test = [1,0,1]"
   ]
  },
  {
   "cell_type": "code",
   "execution_count": 12,
   "id": "bff50e80",
   "metadata": {},
   "outputs": [
    {
     "data": {
      "text/plain": [
       "[[1, 0, 1], [-0.07, 0.04, 0.05], 0]"
      ]
     },
     "execution_count": 12,
     "metadata": {},
     "output_type": "execute_result"
    }
   ],
   "source": [
    "perceptron_eval(wi_trained_ET,x_test)"
   ]
  },
  {
   "cell_type": "markdown",
   "id": "d24f30d3",
   "metadata": {},
   "source": [
    "## Interface graphique"
   ]
  },
  {
   "cell_type": "code",
   "execution_count": null,
   "id": "b8f10e5d",
   "metadata": {},
   "outputs": [
    {
     "name": "stdout",
     "output_type": "stream",
     "text": [
      "1\n",
      "[1.0, 1.0, 1.0]\n"
     ]
    },
    {
     "name": "stderr",
     "output_type": "stream",
     "text": [
      "Exception in Tkinter callback\n",
      "Traceback (most recent call last):\n",
      "  File \"C:\\Python310\\lib\\tkinter\\__init__.py\", line 1921, in __call__\n",
      "    return self.func(*args)\n",
      "  File \"C:\\Users\\PC\\AppData\\Local\\Temp\\ipykernel_14352\\3792585699.py\", line 71, in <lambda>\n",
      "    btn = Button(gui, text = \"Calcule OU\",command = lambda: calcule_Wi(w3_entry.get(),[wo_entry.get(),w1_entry.get(),w2_entry.get()]))\n",
      "  File \"C:\\Users\\PC\\AppData\\Local\\Temp\\ipykernel_14352\\3792585699.py\", line 84, in calcule_Wi\n",
      "    wi = perceptron_train(poids , xi_train , yi_train , nu)\n",
      "  File \"C:\\Users\\PC\\AppData\\Local\\Temp\\ipykernel_14352\\3709062773.py\", line 33, in perceptron_train\n",
      "    poids = dw_correction(nu , y_train[i], y ,x_train[i] , poids)\n",
      "  File \"C:\\Users\\PC\\AppData\\Local\\Temp\\ipykernel_14352\\3709062773.py\", line 20, in dw_correction\n",
      "    poids_corrected.append((nu * (y_target - y) * xi[i] + p[i]))\n",
      "TypeError: can only concatenate str (not \"float\") to str\n"
     ]
    }
   ],
   "source": [
    "gui = Tk()\n",
    "\n",
    "l1 = Label(gui, text = \"X1 :\")\n",
    "l1.place(x = 10, y = 10)\n",
    "e1 = Entry(gui, bd = 5)\n",
    "e1.place(x = 70, y = 10)\n",
    "\n",
    "l2 = Label(gui, text = \"X2 :\")\n",
    "l2.place(x = 10, y = 50)\n",
    "e2 = Entry(gui, bd = 5)\n",
    "e2.place(x = 70, y = 50)\n",
    "\n",
    "l3 = Label(gui, text = \"Détails :\")\n",
    "l3.place(x = 10, y = 150)\n",
    "\n",
    "l4 = Label(gui, text = \"Data test :\")\n",
    "l4.place(x = 10, y = 180)\n",
    "\n",
    "l5 = Label(gui, text = \"Les Wi :\")\n",
    "l5.place(x = 10, y = 210)\n",
    "\n",
    "l6 = Label(gui, text = \"Résultat:\")\n",
    "l6.place(x = 10, y = 240)\n",
    "\n",
    "\n",
    "btn = Button(gui, text = \"Calcule ET\",command = lambda: calcule_ET([1, int(e2.get()) ,int(e1.get())]))\n",
    "btn.place(x = 60, y = 120)\n",
    "\n",
    "btn = Button(gui, text = \"Calcule OU\",command = lambda: calcule_OU([1, int(e2.get()) ,int(e1.get())]))\n",
    "btn.place(x = 160, y = 120)\n",
    "\n",
    "w0 = StringVar()\n",
    "w1 = StringVar()\n",
    "w2 = StringVar()\n",
    "w3 = StringVar()\n",
    "\n",
    "w0_label = Label(gui, text=\"Entrez une valeur pour W0 :\")\n",
    "w0_label.place(x=10, y=320)\n",
    "wo_entry = Entry(gui, textvariable=w0)\n",
    "wo_entry.place(x=10, y=340)\n",
    "wo_entry.focus()\n",
    "\n",
    "w1_label = Label(gui, text=\"Entrez une valeur pour W1 :\")\n",
    "w1_label.place(x=10, y=360)\n",
    "w1_entry = Entry(gui, textvariable=w1)\n",
    "w1_entry.place(x=10, y=380)\n",
    "w1_entry.focus()\n",
    "\n",
    "w2_label = Label(gui, text=\"Entrez une valeur pour W2 :\")\n",
    "w2_label.place(x=10, y=400)\n",
    "w2_entry = Entry(gui, textvariable=w2)\n",
    "w2_entry.place(x=10, y=420)\n",
    "w2_entry.focus()\n",
    "\n",
    "w3_label = Label(gui, text=\"Entrez une valeur pour nu :\")\n",
    "w3_label.place(x=10, y=440)\n",
    "w3_entry = Entry(gui, textvariable=w3)\n",
    "w3_entry.place(x=10, y=460)\n",
    "w3_entry.focus()\n",
    "\n",
    "l7 = Label(gui, text = \"Wo final :\")\n",
    "l7.place(x = 300, y = 320)\n",
    "\n",
    "l8 = Label(gui, text = \"W1 final :\")\n",
    "l8.place(x = 300, y = 360)\n",
    "\n",
    "l9 = Label(gui, text = \"W2 final :\")\n",
    "l9.place(x = 300, y = 400)\n",
    "\n",
    "\n",
    "btn = Button(gui, text = \"Calcule OU\",command = lambda: calcule_Wi(w3_entry.get(),[wo_entry.get(),w1_entry.get(),w2_entry.get()]))\n",
    "btn.place(x = 10, y = 490)\n",
    "\n",
    "\n",
    "gui.geometry(\"600x600+150+150\")\n",
    "gui.mainloop()\n",
    "\n",
    "def calcule_Wi(nu,list_wi):\n",
    "    print(nu)\n",
    "    xi_train = [[1 , 1 , 0],[1 , 0 , 1],[1 , 0 , 0],[1 , 1 , 1]]\n",
    "    yi_train = [1 , 1 , 0 , 1]\n",
    "    poids = [float(list_wi[0]),float(list_wi[1]),float(list_wi[2])]\n",
    "    print(poids)\n",
    "    wi = perceptron_train(poids , xi_train , yi_train , nu)\n",
    "    print(wi)\n",
    "    \n",
    "def calcule_ET(X):\n",
    "    res = perceptron_eval(wi_trained_ET,X)\n",
    "    l4['text'] = 'X de test : ' + str(res[0])\n",
    "    l5['text'] = 'WI fonction ET : ' + str(res[1])\n",
    "    l6['text'] = 'Résultat final : ' + str(res[2])\n",
    "\n",
    "def calcule_OU(X):\n",
    "    res = perceptron_eval(wi_trained_OU,X)\n",
    "    l4['text'] = 'X de test : ' + str(res[0])\n",
    "    l5['text'] = 'WI fonction OU : ' + str(res[1])\n",
    "    l6['text'] = 'Résultat final : ' + str(res[2])"
   ]
  },
  {
   "cell_type": "code",
   "execution_count": null,
   "id": "797c36c9",
   "metadata": {},
   "outputs": [],
   "source": []
  },
  {
   "cell_type": "code",
   "execution_count": null,
   "id": "bfd171ec",
   "metadata": {},
   "outputs": [],
   "source": []
  },
  {
   "cell_type": "code",
   "execution_count": null,
   "id": "96e2170c",
   "metadata": {},
   "outputs": [],
   "source": []
  }
 ],
 "metadata": {
  "kernelspec": {
   "display_name": "Python 3 (ipykernel)",
   "language": "python",
   "name": "python3"
  },
  "language_info": {
   "codemirror_mode": {
    "name": "ipython",
    "version": 3
   },
   "file_extension": ".py",
   "mimetype": "text/x-python",
   "name": "python",
   "nbconvert_exporter": "python",
   "pygments_lexer": "ipython3",
   "version": "3.10.4"
  }
 },
 "nbformat": 4,
 "nbformat_minor": 5
}
