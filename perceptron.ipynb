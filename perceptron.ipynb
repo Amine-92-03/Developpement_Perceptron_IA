{
 "cells": [
  {
   "cell_type": "markdown",
   "id": "c7c6c7e2",
   "metadata": {},
   "source": [
    "# PERCEPTRON POUR OPERATEUR OU / ET"
   ]
  },
  {
   "cell_type": "code",
   "execution_count": 8,
   "id": "ba86bc99",
   "metadata": {},
   "outputs": [],
   "source": [
    "import math"
   ]
  },
  {
   "cell_type": "code",
   "execution_count": 9,
   "id": "d85f9d6f",
   "metadata": {},
   "outputs": [],
   "source": [
    "def fonctionEchelon(x):\n",
    "    if x >= 0 :\n",
    "        return 1\n",
    "    else :\n",
    "        return 0\n",
    "    \n",
    "def fw(p,x):\n",
    "    n = len(p)\n",
    "    s=0\n",
    "    for i in range(n):\n",
    "        s = s + p[i]*x[i]\n",
    "    return s\n",
    "\n",
    "def dw_correction(nu, y_r, y_p,xi,p):\n",
    "    n = len(xi)\n",
    "    poids_c = []\n",
    "    for i in range(n):\n",
    "        poids_c.append(nu * (y_r - y_p) * xi[i] + p[i]) \n",
    "    return poids_c\n",
    "\n",
    "def perceptron_train(p,x_en,y_ent,nu):\n",
    "    nbreLine = len(y_ent)\n",
    "    finProgramme = True\n",
    "    while finProgramme :\n",
    "        finProgramme = False\n",
    "        for i in range(nbreLine):\n",
    "            xi_wi = fw(p,x_en[i])\n",
    "            y_c = fonctionEchelon(xi_wi)\n",
    "            if y_c != y_ent[i] :\n",
    "                finProgramme = True\n",
    "                p = dw_correction(nu , y_ent[i], y_c ,x_en[i] , p)\n",
    "    return p\n",
    "\n",
    "def perceptron(wi,xi):\n",
    "    print('X de test :' , xi)\n",
    "    print('W du modèle :' ,wi)\n",
    "    res = fonctionEchelon(fw(wi,xi))\n",
    "    print('Résultat obtenue :', res)\n"
   ]
  },
  {
   "cell_type": "markdown",
   "id": "359c5ffa",
   "metadata": {},
   "source": [
    "## Apprentissage pour OU"
   ]
  },
  {
   "cell_type": "code",
   "execution_count": 10,
   "id": "bc2aeb72",
   "metadata": {},
   "outputs": [],
   "source": [
    "nu = 0.03\n",
    "poids = [0.02 , 0.1 , 0.05]\n",
    "xi_entrain = [[1 , 1 , 0],[1 , 0 , 1],[1 , 0 , 0],[1 , 1 , 1]]\n",
    "yi_entrain = [1 , 1 , 0 , 1]"
   ]
  },
  {
   "cell_type": "code",
   "execution_count": 11,
   "id": "c399d28e",
   "metadata": {},
   "outputs": [],
   "source": [
    "wi_trained_OU = perceptron_train(poids,xi_entrain,yi_entrain,nu)"
   ]
  },
  {
   "cell_type": "markdown",
   "id": "a6cdb760",
   "metadata": {},
   "source": [
    "## Evaluation pour OU"
   ]
  },
  {
   "cell_type": "code",
   "execution_count": 12,
   "id": "c60699b9",
   "metadata": {},
   "outputs": [],
   "source": [
    "x_test = [1,1,1]"
   ]
  },
  {
   "cell_type": "code",
   "execution_count": 13,
   "id": "b078cd36",
   "metadata": {},
   "outputs": [
    {
     "name": "stdout",
     "output_type": "stream",
     "text": [
      "X de test : [1, 1, 1]\n",
      "W du modèle : [-0.009999999999999998, 0.1, 0.05]\n",
      "Résultat obtenue : 1\n"
     ]
    }
   ],
   "source": [
    "perceptron(wi_trained_OU,x_test)"
   ]
  },
  {
   "cell_type": "markdown",
   "id": "a399dd02",
   "metadata": {},
   "source": [
    "## Apprentissage pour ET"
   ]
  },
  {
   "cell_type": "code",
   "execution_count": 14,
   "id": "f59552aa",
   "metadata": {},
   "outputs": [],
   "source": [
    "nu = 0.03\n",
    "poids = [0.02 , 0.1 , 0.05]\n",
    "xi_entrain = [[1 , 1 , 0],[1 , 0 , 1],[1 , 0 , 0],[1 , 1 , 1]]\n",
    "yi_entrain = [0 , 0 , 0 , 1]"
   ]
  },
  {
   "cell_type": "code",
   "execution_count": 15,
   "id": "a66da277",
   "metadata": {},
   "outputs": [],
   "source": [
    "wi_trained_ET = perceptron_train(poids,xi_entrain,yi_entrain,nu)"
   ]
  },
  {
   "cell_type": "code",
   "execution_count": 16,
   "id": "c321466d",
   "metadata": {},
   "outputs": [],
   "source": [
    "x_test = [1,0,1]"
   ]
  },
  {
   "cell_type": "code",
   "execution_count": 17,
   "id": "bff50e80",
   "metadata": {},
   "outputs": [
    {
     "name": "stdout",
     "output_type": "stream",
     "text": [
      "X de test : [1, 0, 1]\n",
      "W du modèle : [-0.06999999999999999, 0.04000000000000001, 0.05]\n",
      "Résultat obtenue : 0\n"
     ]
    }
   ],
   "source": [
    "perceptron(wi_trained_ET,x_test)"
   ]
  },
  {
   "cell_type": "markdown",
   "id": "d24f30d3",
   "metadata": {},
   "source": [
    "## Apprentissage pour XOR"
   ]
  },
  {
   "cell_type": "code",
   "execution_count": 18,
   "id": "77adb8d5",
   "metadata": {},
   "outputs": [],
   "source": [
    "nu = 0.03\n",
    "poids = [0.02 , 0.1 , 0.05]\n",
    "xi_entrain = [[1 , 0 , 0],[1 , 1 , 1],[1 , 1 , 0],[1 , 0 , 1]]\n",
    "yi_entrain = [0 , 0 , 1 , 1]"
   ]
  },
  {
   "cell_type": "code",
   "execution_count": 19,
   "id": "aa347f46",
   "metadata": {},
   "outputs": [
    {
     "ename": "KeyboardInterrupt",
     "evalue": "",
     "output_type": "error",
     "traceback": [
      "\u001b[1;31m---------------------------------------------------------------------------\u001b[0m",
      "\u001b[1;31mKeyboardInterrupt\u001b[0m                         Traceback (most recent call last)",
      "Input \u001b[1;32mIn [19]\u001b[0m, in \u001b[0;36m<cell line: 1>\u001b[1;34m()\u001b[0m\n\u001b[1;32m----> 1\u001b[0m wi_trained_ET \u001b[38;5;241m=\u001b[39m \u001b[43mperceptron_train\u001b[49m\u001b[43m(\u001b[49m\u001b[43mpoids\u001b[49m\u001b[43m,\u001b[49m\u001b[43mxi_entrain\u001b[49m\u001b[43m,\u001b[49m\u001b[43myi_entrain\u001b[49m\u001b[43m,\u001b[49m\u001b[43mnu\u001b[49m\u001b[43m)\u001b[49m\n",
      "Input \u001b[1;32mIn [9]\u001b[0m, in \u001b[0;36mperceptron_train\u001b[1;34m(p, x_en, y_ent, nu)\u001b[0m\n\u001b[0;32m     25\u001b[0m finProgramme \u001b[38;5;241m=\u001b[39m \u001b[38;5;28;01mFalse\u001b[39;00m\n\u001b[0;32m     26\u001b[0m \u001b[38;5;28;01mfor\u001b[39;00m i \u001b[38;5;129;01min\u001b[39;00m \u001b[38;5;28mrange\u001b[39m(nbreLine):\n\u001b[1;32m---> 27\u001b[0m     xi_wi \u001b[38;5;241m=\u001b[39m \u001b[43mfw\u001b[49m\u001b[43m(\u001b[49m\u001b[43mp\u001b[49m\u001b[43m,\u001b[49m\u001b[43mx_en\u001b[49m\u001b[43m[\u001b[49m\u001b[43mi\u001b[49m\u001b[43m]\u001b[49m\u001b[43m)\u001b[49m\n\u001b[0;32m     28\u001b[0m     y_c \u001b[38;5;241m=\u001b[39m fonctionEchelon(xi_wi)\n\u001b[0;32m     29\u001b[0m     \u001b[38;5;28;01mif\u001b[39;00m y_c \u001b[38;5;241m!=\u001b[39m y_ent[i] :\n",
      "Input \u001b[1;32mIn [9]\u001b[0m, in \u001b[0;36mfw\u001b[1;34m(p, x)\u001b[0m\n\u001b[0;32m      7\u001b[0m \u001b[38;5;28;01mdef\u001b[39;00m \u001b[38;5;21mfw\u001b[39m(p,x):\n\u001b[1;32m----> 8\u001b[0m     n \u001b[38;5;241m=\u001b[39m \u001b[38;5;28;43mlen\u001b[39;49m\u001b[43m(\u001b[49m\u001b[43mp\u001b[49m\u001b[43m)\u001b[49m\n\u001b[0;32m      9\u001b[0m     s\u001b[38;5;241m=\u001b[39m\u001b[38;5;241m0\u001b[39m\n\u001b[0;32m     10\u001b[0m     \u001b[38;5;28;01mfor\u001b[39;00m i \u001b[38;5;129;01min\u001b[39;00m \u001b[38;5;28mrange\u001b[39m(n):\n",
      "\u001b[1;31mKeyboardInterrupt\u001b[0m: "
     ]
    }
   ],
   "source": [
    "wi_trained_ET = perceptron_train(poids,xi_entrain,yi_entrain,nu)"
   ]
  },
  {
   "cell_type": "code",
   "execution_count": null,
   "id": "69b2f83a",
   "metadata": {},
   "outputs": [],
   "source": []
  }
 ],
 "metadata": {
  "kernelspec": {
   "display_name": "Python 3 (ipykernel)",
   "language": "python",
   "name": "python3"
  },
  "language_info": {
   "codemirror_mode": {
    "name": "ipython",
    "version": 3
   },
   "file_extension": ".py",
   "mimetype": "text/x-python",
   "name": "python",
   "nbconvert_exporter": "python",
   "pygments_lexer": "ipython3",
   "version": "3.10.4"
  }
 },
 "nbformat": 4,
 "nbformat_minor": 5
}
