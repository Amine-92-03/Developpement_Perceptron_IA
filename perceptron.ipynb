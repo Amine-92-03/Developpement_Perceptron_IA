{
 "cells": [
  {
   "cell_type": "markdown",
   "id": "36aa450d",
   "metadata": {},
   "source": [
    "# PERCEPTRON POUR OPERATEUR OU / ET"
   ]
  },
  {
   "cell_type": "code",
   "execution_count": 437,
   "id": "e4c1127d",
   "metadata": {},
   "outputs": [],
   "source": [
    "import math"
   ]
  },
  {
   "cell_type": "code",
   "execution_count": 438,
   "id": "6413b93f",
   "metadata": {},
   "outputs": [],
   "source": [
    "def fonctionEchelon(x):\n",
    "    if x >= 0 :\n",
    "        return 1\n",
    "    else :\n",
    "        return 0\n",
    "    \n",
    "def fw(p,x):\n",
    "    n = len(p)\n",
    "    s=0\n",
    "    for i in range(n):\n",
    "        s = s + p[i]*x[i]\n",
    "    return s\n",
    "\n",
    "def dw_correction(nu, y_r, y_p,xi,p):\n",
    "    n = len(xi)\n",
    "    poids_c = []\n",
    "    for i in range(n):\n",
    "        poids_c.append(nu * (y_r - y_p) * xi[i] + p[i]) \n",
    "    return poids_c\n",
    "\n",
    "def perceptron_train(p,x_en,y_ent,nu):\n",
    "    nbreLine = len(y_ent)\n",
    "    finProgramme = True\n",
    "    while finProgramme :\n",
    "        finProgramme = False\n",
    "        for i in range(nbreLine):\n",
    "            xi_wi = fw(p,x_en[i])\n",
    "            y_c = fonctionEchelon(xi_wi)\n",
    "            if y_c != y_ent[i] :\n",
    "                finProgramme = True\n",
    "                p = dw_correction(nu , y_ent[i], y_c ,x_en[i] , p)\n",
    "    return p\n",
    "\n",
    "def perceptron(wi,xi):\n",
    "    print('X de test :' , xi)\n",
    "    print('W du modèle :' ,wi)\n",
    "    res = fonctionEchelon(fw(wi,xi))\n",
    "    print('Résultat obtenue :', res)\n"
   ]
  },
  {
   "cell_type": "markdown",
   "id": "d7e3e058",
   "metadata": {},
   "source": [
    "## Apprentissage pour OU"
   ]
  },
  {
   "cell_type": "code",
   "execution_count": 439,
   "id": "68db19af",
   "metadata": {},
   "outputs": [],
   "source": [
    "nu = 0.03\n",
    "poids = [0.02 , 0.1 , 0.05]\n",
    "xi_entrain = [[1 , 1 , 0],[1 , 0 , 1],[1 , 0 , 0],[1 , 1 , 1]]\n",
    "yi_entrain = [1 , 1 , 0 , 1]"
   ]
  },
  {
   "cell_type": "code",
   "execution_count": 440,
   "id": "cdba6924",
   "metadata": {},
   "outputs": [],
   "source": [
    "wi_trained_OU = perceptron_train(poids,xi_entrain,yi_entrain,nu)"
   ]
  },
  {
   "cell_type": "markdown",
   "id": "de3ea892",
   "metadata": {},
   "source": [
    "## Evaluation pour OU"
   ]
  },
  {
   "cell_type": "code",
   "execution_count": 441,
   "id": "a87e92e1",
   "metadata": {},
   "outputs": [],
   "source": [
    "x_test = [1,1,1]"
   ]
  },
  {
   "cell_type": "code",
   "execution_count": 442,
   "id": "a4ef2b02",
   "metadata": {},
   "outputs": [
    {
     "name": "stdout",
     "output_type": "stream",
     "text": [
      "X de test : [1, 1, 1]\n",
      "W du modèle : [-0.009999999999999998, 0.1, 0.05]\n",
      "Résultat obtenue : 1\n"
     ]
    }
   ],
   "source": [
    "perceptron(wi_trained_OU,x_test)"
   ]
  },
  {
   "cell_type": "markdown",
   "id": "0b1d9750",
   "metadata": {},
   "source": [
    "## Apprentissage pour ET"
   ]
  },
  {
   "cell_type": "code",
   "execution_count": 443,
   "id": "8a62224b",
   "metadata": {},
   "outputs": [],
   "source": [
    "nu = 0.03\n",
    "poids = [0.02 , 0.1 , 0.05]\n",
    "xi_entrain = [[1 , 1 , 0],[1 , 0 , 1],[1 , 0 , 0],[1 , 1 , 1]]\n",
    "yi_entrain = [0 , 0 , 0 , 1]"
   ]
  },
  {
   "cell_type": "code",
   "execution_count": 444,
   "id": "259bbad4",
   "metadata": {},
   "outputs": [],
   "source": [
    "wi_trained_ET = perceptron_train(poids,xi_entrain,yi_entrain,nu)"
   ]
  },
  {
   "cell_type": "code",
   "execution_count": 445,
   "id": "b8c740a9",
   "metadata": {},
   "outputs": [],
   "source": [
    "x_test = [1,0,1]"
   ]
  },
  {
   "cell_type": "code",
   "execution_count": 446,
   "id": "e4d9aaf9",
   "metadata": {},
   "outputs": [
    {
     "name": "stdout",
     "output_type": "stream",
     "text": [
      "X de test : [1, 0, 1]\n",
      "W du modèle : [-0.06999999999999999, 0.04000000000000001, 0.05]\n",
      "Résultat obtenue : 0\n"
     ]
    }
   ],
   "source": [
    "perceptron(wi_trained_ET,x_test)"
   ]
  },
  {
   "cell_type": "code",
   "execution_count": null,
   "id": "51c69649",
   "metadata": {},
   "outputs": [],
   "source": []
  }
 ],
 "metadata": {
  "kernelspec": {
   "display_name": "Python 3 (ipykernel)",
   "language": "python",
   "name": "python3"
  },
  "language_info": {
   "codemirror_mode": {
    "name": "ipython",
    "version": 3
   },
   "file_extension": ".py",
   "mimetype": "text/x-python",
   "name": "python",
   "nbconvert_exporter": "python",
   "pygments_lexer": "ipython3",
   "version": "3.10.4"
  }
 },
 "nbformat": 4,
 "nbformat_minor": 5
}
